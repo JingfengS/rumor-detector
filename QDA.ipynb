{
 "cells": [
  {
   "cell_type": "code",
   "execution_count": 1,
   "id": "7971111d",
   "metadata": {},
   "outputs": [],
   "source": [
    "import pandas as pd\n",
    "import re\n",
    "from sklearn.feature_extraction.text import TfidfVectorizer\n",
    "from sklearn.decomposition import TruncatedSVD\n",
    "from sklearn.discriminant_analysis import QuadraticDiscriminantAnalysis, LinearDiscriminantAnalysis\n",
    "from sklearn.metrics import accuracy_score, classification_report\n",
    "from pathlib import Path\n",
    "from sklearn.preprocessing import OneHotEncoder\n",
    "import numpy as np\n",
    "from scipy.sparse import hstack\n",
    "\n",
    "DATA = Path('data')"
   ]
  },
  {
   "cell_type": "markdown",
   "id": "97035cf0",
   "metadata": {},
   "source": [
    "## Data Clean\n",
    "- 将所有文本转为小写。\n",
    "- 移除URL、@用户、#话题标签、标点符号和数字，只保留文本内容。"
   ]
  },
  {
   "cell_type": "code",
   "execution_count": 21,
   "id": "731daee9",
   "metadata": {},
   "outputs": [
    {
     "name": "stdout",
     "output_type": "stream",
     "text": [
      "正在加载数据...\n"
     ]
    }
   ],
   "source": [
    "# --- 1. 加载数据 ---\n",
    "print(\"正在加载数据...\")\n",
    "train_df = pd.read_csv(DATA / 'train.csv')\n",
    "val_df = pd.read_csv(DATA / 'val.csv')\n",
    "train_df.head()\n",
    "\n",
    "train_df = train_df.sample(frac=1, random_state=18260817).reset_index(drop=True)\n",
    "val_df = val_df.sample(frac=1, random_state=18260817).reset_index(drop=True)"
   ]
  },
  {
   "cell_type": "code",
   "execution_count": 22,
   "id": "14a79885",
   "metadata": {},
   "outputs": [],
   "source": [
    "# 填充可能存在的NaN值\n",
    "train_df['text'] = train_df['text'].fillna('')\n",
    "val_df['text'] = val_df['text'].fillna('')\n",
    "train_df['event'] = train_df['event'].fillna('unknown')\n",
    "val_df['event'] = val_df['event'].fillna('unknown')"
   ]
  },
  {
   "cell_type": "code",
   "execution_count": 23,
   "id": "6f50325f",
   "metadata": {},
   "outputs": [],
   "source": [
    "# --- 2. 文本预处理函数 ---\n",
    "def preprocess_text(text):\n",
    "    \"\"\"清洗文本数据\"\"\"\n",
    "    text = text.lower()  # 转为小写\n",
    "    text = re.sub(r'http\\S+|www\\S+|https\\S+', '', text, flags=re.MULTILINE) # 移除URL\n",
    "    text = re.sub(r'\\@\\w+|\\#', '', text) # 移除@和#\n",
    "    text = re.sub(r'[^a-z\\s]', '', text) # 只保留英文字母和空格\n",
    "    return text"
   ]
  },
  {
   "cell_type": "code",
   "execution_count": 24,
   "id": "c1ed8491",
   "metadata": {},
   "outputs": [
    {
     "name": "stdout",
     "output_type": "stream",
     "text": [
      "正在预处理文本...\n"
     ]
    },
    {
     "data": {
      "application/vnd.microsoft.datawrangler.viewer.v0+json": {
       "columns": [
        {
         "name": "index",
         "rawType": "int64",
         "type": "integer"
        },
        {
         "name": "id",
         "rawType": "int64",
         "type": "integer"
        },
        {
         "name": "text",
         "rawType": "object",
         "type": "string"
        },
        {
         "name": "label",
         "rawType": "int64",
         "type": "integer"
        },
        {
         "name": "event",
         "rawType": "int64",
         "type": "integer"
        },
        {
         "name": "clean_text",
         "rawType": "object",
         "type": "string"
        }
       ],
       "ref": "c2b65bd2-6121-43bc-b6bf-40676cd8cf22",
       "rows": [
        [
         "0",
         "544286686142685184",
         "CORRECTION: We reported earlier Sydney air space was shut down. That is not correct. No Sydney air space has been shut down. #SydneySiege",
         "1",
         "5",
         "correction we reported earlier sydney air space was shut down that is not correct no sydney air space has been shut down sydneysiege"
        ],
        [
         "1",
         "499410965075886080",
         "Missouri Mayor: Looters came from out of town. http://t.co/hv3mPdHtKC … Was he talking about Sharpton? http://t.co/qS4wm2BdsK #Ferguson",
         "0",
         "1",
         "missouri mayor looters came from out of town   was he talking about sharpton  ferguson"
        ],
        [
         "2",
         "536837309078200320",
         "Swiss museum accepts art from Gurlitt http://t.co/DFak0YrOry via @WSJ",
         "1",
         "0",
         "swiss museum accepts art from gurlitt  via "
        ],
        [
         "3",
         "544282877278814208",
         "Flag in Sydney cafe where hostages are being held 'is not linked with IS' http://t.co/kBSIaYKHtt http://t.co/KuneM4q1km",
         "1",
         "5",
         "flag in sydney cafe where hostages are being held is not linked with is  "
        ],
        [
         "4",
         "500280477920796672",
         "Because, of course, when someone commits a robbery they stroll down the middle of the street where everyone can see them. #Ferguson",
         "1",
         "1",
         "because of course when someone commits a robbery they stroll down the middle of the street where everyone can see them ferguson"
        ]
       ],
       "shape": {
        "columns": 5,
        "rows": 5
       }
      },
      "text/html": [
       "<div>\n",
       "<style scoped>\n",
       "    .dataframe tbody tr th:only-of-type {\n",
       "        vertical-align: middle;\n",
       "    }\n",
       "\n",
       "    .dataframe tbody tr th {\n",
       "        vertical-align: top;\n",
       "    }\n",
       "\n",
       "    .dataframe thead th {\n",
       "        text-align: right;\n",
       "    }\n",
       "</style>\n",
       "<table border=\"1\" class=\"dataframe\">\n",
       "  <thead>\n",
       "    <tr style=\"text-align: right;\">\n",
       "      <th></th>\n",
       "      <th>id</th>\n",
       "      <th>text</th>\n",
       "      <th>label</th>\n",
       "      <th>event</th>\n",
       "      <th>clean_text</th>\n",
       "    </tr>\n",
       "  </thead>\n",
       "  <tbody>\n",
       "    <tr>\n",
       "      <th>0</th>\n",
       "      <td>544286686142685184</td>\n",
       "      <td>CORRECTION: We reported earlier Sydney air spa...</td>\n",
       "      <td>1</td>\n",
       "      <td>5</td>\n",
       "      <td>correction we reported earlier sydney air spac...</td>\n",
       "    </tr>\n",
       "    <tr>\n",
       "      <th>1</th>\n",
       "      <td>499410965075886080</td>\n",
       "      <td>Missouri Mayor: Looters came from out of town....</td>\n",
       "      <td>0</td>\n",
       "      <td>1</td>\n",
       "      <td>missouri mayor looters came from out of town  ...</td>\n",
       "    </tr>\n",
       "    <tr>\n",
       "      <th>2</th>\n",
       "      <td>536837309078200320</td>\n",
       "      <td>Swiss museum accepts art from Gurlitt http://t...</td>\n",
       "      <td>1</td>\n",
       "      <td>0</td>\n",
       "      <td>swiss museum accepts art from gurlitt  via</td>\n",
       "    </tr>\n",
       "    <tr>\n",
       "      <th>3</th>\n",
       "      <td>544282877278814208</td>\n",
       "      <td>Flag in Sydney cafe where hostages are being h...</td>\n",
       "      <td>1</td>\n",
       "      <td>5</td>\n",
       "      <td>flag in sydney cafe where hostages are being h...</td>\n",
       "    </tr>\n",
       "    <tr>\n",
       "      <th>4</th>\n",
       "      <td>500280477920796672</td>\n",
       "      <td>Because, of course, when someone commits a rob...</td>\n",
       "      <td>1</td>\n",
       "      <td>1</td>\n",
       "      <td>because of course when someone commits a robbe...</td>\n",
       "    </tr>\n",
       "  </tbody>\n",
       "</table>\n",
       "</div>"
      ],
      "text/plain": [
       "                   id                                               text  \\\n",
       "0  544286686142685184  CORRECTION: We reported earlier Sydney air spa...   \n",
       "1  499410965075886080  Missouri Mayor: Looters came from out of town....   \n",
       "2  536837309078200320  Swiss museum accepts art from Gurlitt http://t...   \n",
       "3  544282877278814208  Flag in Sydney cafe where hostages are being h...   \n",
       "4  500280477920796672  Because, of course, when someone commits a rob...   \n",
       "\n",
       "   label  event                                         clean_text  \n",
       "0      1      5  correction we reported earlier sydney air spac...  \n",
       "1      0      1  missouri mayor looters came from out of town  ...  \n",
       "2      1      0        swiss museum accepts art from gurlitt  via   \n",
       "3      1      5  flag in sydney cafe where hostages are being h...  \n",
       "4      1      1  because of course when someone commits a robbe...  "
      ]
     },
     "execution_count": 24,
     "metadata": {},
     "output_type": "execute_result"
    }
   ],
   "source": [
    "print(\"正在预处理文本...\")\n",
    "train_df['clean_text'] = train_df['text'].apply(preprocess_text)\n",
    "val_df['clean_text'] = val_df['text'].apply(preprocess_text)\n",
    "y_train = train_df['label']\n",
    "y_val = val_df['label']\n",
    "train_df.head()"
   ]
  },
  {
   "cell_type": "code",
   "execution_count": null,
   "id": "2d56718f",
   "metadata": {},
   "outputs": [
    {
     "name": "stdout",
     "output_type": "stream",
     "text": [
      "正在处理文本特征...\n"
     ]
    }
   ],
   "source": [
    "# --- 2. Feature Engineering (in parallel) ---\n",
    "\n",
    "# 2.1 Text Path (TF-IDF -> SVD)\n",
    "print(\"正在处理文本特征...\")\n",
    "tfidf_vectorizer = TfidfVectorizer(stop_words='english')\n",
    "X_train_tfidf = tfidf_vectorizer.fit_transform(train_df['clean_text'])\n",
    "X_val_tfidf = tfidf_vectorizer.transform(val_df['clean_text'])\n",
    "\n",
    "n_components = 150\n",
    "svd = TruncatedSVD(n_components=n_components, random_state=42)\n",
    "X_train_svd = svd.fit_transform(X_train_tfidf)\n",
    "X_val_svd = svd.transform(X_val_tfidf)\n"
   ]
  },
  {
   "cell_type": "code",
   "execution_count": 26,
   "id": "ed88787a",
   "metadata": {},
   "outputs": [],
   "source": [
    "# # 2.2 Event Path (One-Hot Encoding)\n",
    "# print(\"正在处理 'event' 特征...\")\n",
    "# onehot_encoder = OneHotEncoder(handle_unknown='ignore')\n",
    "# # Note: The input to OneHotEncoder should be a 2D array, hence train_df[['event']]\n",
    "# X_train_event = onehot_encoder.fit_transform(train_df[['event']])\n",
    "# X_val_event = onehot_encoder.transform(val_df[['event']])"
   ]
  },
  {
   "cell_type": "code",
   "execution_count": 27,
   "id": "91778e93",
   "metadata": {},
   "outputs": [],
   "source": [
    "# --- 3. Combine Features ---\n",
    "# print(\"正在合并文本特征和 'event' 特征...\")\n",
    "# # np.hstack requires dense arrays for stacking.\n",
    "# X_train_combined = np.hstack((X_train_svd, X_train_event.toarray()))\n",
    "# X_val_combined = np.hstack((X_val_svd, X_val_event.toarray()))\n",
    "\n"
   ]
  },
  {
   "cell_type": "code",
   "execution_count": 28,
   "id": "fb2dd0c5",
   "metadata": {},
   "outputs": [],
   "source": [
    "# print(f\"最终特征维度: {X_train_combined.shape[1]}\") # This will be n_components + number_of_event_categories\n"
   ]
  },
  {
   "cell_type": "code",
   "execution_count": 39,
   "id": "23ab6fc0",
   "metadata": {},
   "outputs": [
    {
     "name": "stdout",
     "output_type": "stream",
     "text": [
      "正在训练和评估 QDA 模型...\n",
      "\n",
      "包含 'event' 的 QDA 模型在验证集上的准确率: 0.8321\n",
      "\n",
      "QDA 分类报告:\n",
      "              precision    recall  f1-score   support\n",
      "\n",
      "           0       0.84      0.86      0.85       226\n",
      "           1       0.82      0.80      0.81       179\n",
      "\n",
      "    accuracy                           0.83       405\n",
      "   macro avg       0.83      0.83      0.83       405\n",
      "weighted avg       0.83      0.83      0.83       405\n",
      "\n"
     ]
    },
    {
     "name": "stderr",
     "output_type": "stream",
     "text": [
      "/opt/anaconda3/envs/datasci/lib/python3.11/site-packages/sklearn/discriminant_analysis.py:1024: LinAlgWarning: The covariance matrix of class 0 is not full rank. Increasing the value of parameter `reg_param` might help reducing the collinearity.\n",
      "  warnings.warn(\n",
      "/opt/anaconda3/envs/datasci/lib/python3.11/site-packages/sklearn/discriminant_analysis.py:1024: LinAlgWarning: The covariance matrix of class 1 is not full rank. Increasing the value of parameter `reg_param` might help reducing the collinearity.\n",
      "  warnings.warn(\n"
     ]
    }
   ],
   "source": [
    "# --- 4. Model Training and Evaluation (QDA) ---\n",
    "\n",
    "X_train_combined = X_train_svd\n",
    "X_val_combined = X_val_svd\n",
    "print(\"正在训练和评估 QDA 模型...\")\n",
    "qda_model = QuadraticDiscriminantAnalysis(reg_param=1e-5)\n",
    "# Note: QDA can sometimes fail if a class has too few samples for a given feature combination,\n",
    "# leading to a singular covariance matrix. If that happens, LDA is a more robust alternative.\n",
    "try:\n",
    "    qda_model.fit(X_train_combined, y_train)\n",
    "    y_pred_qda = qda_model.predict(X_val_combined)\n",
    "    accuracy_qda = accuracy_score(y_val, y_pred_qda)\n",
    "\n",
    "    print(f\"\\n包含 'event' 的 QDA 模型在验证集上的准确率: {accuracy_qda:.4f}\")\n",
    "    print(\"\\nQDA 分类报告:\")\n",
    "    print(classification_report(y_val, y_pred_qda))\n",
    "except Exception as e:\n",
    "    print(f\"\\n无法训练QDA模型，可能因为特征共线性问题: {e}\")\n",
    "    print(\"请考虑使用LDA作为替代方案。\")"
   ]
  },
  {
   "cell_type": "code",
   "execution_count": null,
   "id": "2d2414b3",
   "metadata": {},
   "outputs": [],
   "source": []
  }
 ],
 "metadata": {
  "kernelspec": {
   "display_name": "datasci",
   "language": "python",
   "name": "python3"
  },
  "language_info": {
   "codemirror_mode": {
    "name": "ipython",
    "version": 3
   },
   "file_extension": ".py",
   "mimetype": "text/x-python",
   "name": "python",
   "nbconvert_exporter": "python",
   "pygments_lexer": "ipython3",
   "version": "3.11.11"
  }
 },
 "nbformat": 4,
 "nbformat_minor": 5
}
